{
 "cells": [
  {
   "cell_type": "code",
   "execution_count": 9,
   "metadata": {},
   "outputs": [],
   "source": [
    "using Bio.Structure;"
   ]
  },
  {
   "cell_type": "code",
   "execution_count": 10,
   "metadata": {},
   "outputs": [
    {
     "data": {
      "text/plain": [
       "Bio.Structure.ProteinStructure\n",
       "Name                        -  1AKE.pdb\n",
       "Number of models            -  1\n",
       "Chain(s)                    -  AB\n",
       "Number of residues          -  428\n",
       "Number of point mutations   -  0\n",
       "Number of other molecules   -  2\n",
       "Number of water molecules   -  378\n",
       "Number of atoms             -  3312\n",
       "Number of hydrogens         -  0\n",
       "Number of disordered atoms  -  5"
      ]
     },
     "execution_count": 10,
     "metadata": {},
     "output_type": "execute_result"
    }
   ],
   "source": [
    "struc = read(\"1AKE.pdb\", PDB)"
   ]
  },
  {
   "cell_type": "code",
   "execution_count": 11,
   "metadata": {},
   "outputs": [
    {
     "data": {
      "text/plain": [
       "Bio.Structure.Residue\n",
       "Residue ID                  -  100:A\n",
       "Residue name                -  GLY\n",
       "Number of atoms             -  4\n",
       "Number of hydrogens         -  0\n",
       "Number of disordered atoms  -  0"
      ]
     },
     "execution_count": 11,
     "metadata": {},
     "output_type": "execute_result"
    }
   ],
   "source": [
    "struc['A'][100]"
   ]
  },
  {
   "cell_type": "code",
   "execution_count": 12,
   "metadata": {
    "collapsed": true
   },
   "outputs": [],
   "source": [
    "calphas = collectatoms(struc['A'], calphaselector);"
   ]
  },
  {
   "cell_type": "code",
   "execution_count": 13,
   "metadata": {},
   "outputs": [
    {
     "data": {
      "text/plain": [
       "214aa Amino Acid Sequence:\n",
       "MRIILLGAPGAGKGTQAQFIMEKYGIPQISTGDMLRAAV…APLIGYYSKEAEAGNTKYAKVDGTKPVAEVRADLEKILG"
      ]
     },
     "execution_count": 13,
     "metadata": {},
     "output_type": "execute_result"
    }
   ],
   "source": [
    "seq = AminoAcidSequence(struc['A'], standardselector)"
   ]
  },
  {
   "cell_type": "code",
   "execution_count": 14,
   "metadata": {
    "collapsed": true
   },
   "outputs": [],
   "source": [
    "for mod in struc\n",
    "    for ch in mod\n",
    "        for res in ch\n",
    "            for at in res\n",
    "                # Do something\n",
    "            end\n",
    "        end\n",
    "    end\n",
    "end"
   ]
  }
 ],
 "metadata": {
  "kernelspec": {
   "display_name": "Julia 0.5.2",
   "language": "julia",
   "name": "julia-0.5"
  },
  "language_info": {
   "file_extension": ".jl",
   "mimetype": "application/julia",
   "name": "julia",
   "version": "0.5.2"
  }
 },
 "nbformat": 4,
 "nbformat_minor": 2
}
